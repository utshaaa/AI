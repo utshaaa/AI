{
  "nbformat": 4,
  "nbformat_minor": 0,
  "metadata": {
    "colab": {
      "provenance": []
    },
    "kernelspec": {
      "name": "python3",
      "display_name": "Python 3"
    },
    "language_info": {
      "name": "python"
    }
  },
  "cells": [
    {
      "cell_type": "code",
      "execution_count": 12,
      "metadata": {
        "colab": {
          "base_uri": "https://localhost:8080/"
        },
        "id": "iOxUPHvaPPG2",
        "outputId": "74d1f40c-38ad-40f3-decc-234c7d22d39c"
      },
      "outputs": [
        {
          "output_type": "stream",
          "name": "stdout",
          "text": [
            "DataFrame Info:\n",
            "<class 'pandas.core.frame.DataFrame'>\n",
            "RangeIndex: 45211 entries, 0 to 45210\n",
            "Data columns (total 17 columns):\n",
            " #   Column     Non-Null Count  Dtype \n",
            "---  ------     --------------  ----- \n",
            " 0   age        45211 non-null  int64 \n",
            " 1   job        45211 non-null  object\n",
            " 2   marital    45211 non-null  object\n",
            " 3   education  45211 non-null  object\n",
            " 4   default    45211 non-null  object\n",
            " 5   balance    45211 non-null  int64 \n",
            " 6   housing    45211 non-null  object\n",
            " 7   loan       45211 non-null  object\n",
            " 8   contact    45211 non-null  object\n",
            " 9   day        45211 non-null  int64 \n",
            " 10  month      45211 non-null  object\n",
            " 11  duration   45211 non-null  int64 \n",
            " 12  campaign   45211 non-null  int64 \n",
            " 13  pdays      45211 non-null  int64 \n",
            " 14  previous   45211 non-null  int64 \n",
            " 15  poutcome   45211 non-null  object\n",
            " 16  y          45211 non-null  object\n",
            "dtypes: int64(7), object(10)\n",
            "memory usage: 5.9+ MB\n",
            "\n",
            "Columns with dtype=object:\n",
            "Index(['job', 'marital', 'education', 'default', 'housing', 'loan', 'contact',\n",
            "       'month', 'poutcome', 'y'],\n",
            "      dtype='object')\n",
            "\n",
            "Unique values in object columns:\n",
            "job: ['management' 'technician' 'entrepreneur' 'blue-collar' 'unknown'\n",
            " 'retired' 'admin.' 'services' 'self-employed' 'unemployed' 'housemaid'\n",
            " 'student']\n",
            "marital: ['married' 'single' 'divorced']\n",
            "education: ['tertiary' 'secondary' 'unknown' 'primary']\n",
            "default: ['no' 'yes']\n",
            "housing: ['yes' 'no']\n",
            "loan: ['no' 'yes']\n",
            "contact: ['unknown' 'cellular' 'telephone']\n",
            "month: ['may' 'jun' 'jul' 'aug' 'oct' 'nov' 'dec' 'jan' 'feb' 'mar' 'apr' 'sep']\n",
            "poutcome: ['unknown' 'failure' 'other' 'success']\n",
            "y: ['no' 'yes']\n",
            "\n",
            "Total null values in each column:\n",
            "age          0\n",
            "job          0\n",
            "marital      0\n",
            "education    0\n",
            "default      0\n",
            "balance      0\n",
            "housing      0\n",
            "loan         0\n",
            "contact      0\n",
            "day          0\n",
            "month        0\n",
            "duration     0\n",
            "campaign     0\n",
            "pdays        0\n",
            "previous     0\n",
            "poutcome     0\n",
            "y            0\n",
            "dtype: int64\n",
            "\n",
            "New numeric DataFrame saved as 'banknumericdata.csv'\n",
            "\n",
            "Summary statistics of numeric DataFrame:\n",
            "                age        balance           day      duration      campaign  \\\n",
            "count  45211.000000   45211.000000  45211.000000  45211.000000  45211.000000   \n",
            "mean      40.936210    1362.272058     15.806419    258.163080      2.763841   \n",
            "std       10.618762    3044.765829      8.322476    257.527812      3.098021   \n",
            "min       18.000000   -8019.000000      1.000000      0.000000      1.000000   \n",
            "25%       33.000000      72.000000      8.000000    103.000000      1.000000   \n",
            "50%       39.000000     448.000000     16.000000    180.000000      2.000000   \n",
            "75%       48.000000    1428.000000     21.000000    319.000000      3.000000   \n",
            "max       95.000000  102127.000000     31.000000   4918.000000     63.000000   \n",
            "\n",
            "              pdays      previous  \n",
            "count  45211.000000  45211.000000  \n",
            "mean      40.197828      0.580323  \n",
            "std      100.128746      2.303441  \n",
            "min       -1.000000      0.000000  \n",
            "25%       -1.000000      0.000000  \n",
            "50%       -1.000000      0.000000  \n",
            "75%       -1.000000      0.000000  \n",
            "max      871.000000    275.000000  \n"
          ]
        }
      ],
      "source": [
        "import pandas as pd\n",
        "from google.colab import files\n",
        "\n",
        "\n",
        "# Step 1: Load the dataset\n",
        "file_path = \"/content/bank .csv\"  # Ensure this file is in the working directory\n",
        "df = pd.read_csv(file_path)\n",
        "\n",
        "# Step 2: Check DataFrame info and perform the required analysis\n",
        "print(\"DataFrame Info:\")\n",
        "df.info()\n",
        "\n",
        "# (a) Identify columns with dtype=object\n",
        "object_columns = df.select_dtypes(include='object').columns\n",
        "print(\"\\nColumns with dtype=object:\")\n",
        "print(object_columns)\n",
        "\n",
        "# (b) Unique values of object columns\n",
        "print(\"\\nUnique values in object columns:\")\n",
        "for col in object_columns:\n",
        "    print(f\"{col}: {df[col].unique()}\")\n",
        "\n",
        "# (c) Total number of null values in each column\n",
        "print(\"\\nTotal null values in each column:\")\n",
        "print(df.isnull().sum())\n",
        "\n",
        "# Step 3: Drop object columns and save the new DataFrame\n",
        "numeric_df = df.drop(columns=object_columns)\n",
        "numeric_df.to_csv(\"banknumericdata.csv\", index=False)\n",
        "print(\"\\nNew numeric DataFrame saved as 'banknumericdata.csv'\")\n",
        "\n",
        "# Step 4: Read \"banknumericdata.csv\" and find summary statistics\n",
        "numeric_data = pd.read_csv(\"banknumericdata.csv\")\n",
        "print(\"\\nSummary statistics of numeric DataFrame:\")\n",
        "print(numeric_data.describe())\n"
      ]
    },
    {
      "cell_type": "code",
      "source": [
        "import pandas as pd\n",
        "from google.colab import files\n",
        "\n",
        "# Step 1: Load the dataset\n",
        "file_path = \"medical_students_dataset.csv\"  # Ensure the file is in your working directory\n",
        "df = pd.read_csv(file_path)\n",
        "\n",
        "# Step 2: Check info of the DataFrame and identify columns with missing values\n",
        "print(\"DataFrame Info:\")\n",
        "df.info()\n",
        "\n",
        "print(\"\\nTotal null values in each column:\")\n",
        "null_values = df.isnull().sum()\n",
        "print(null_values)\n",
        "\n",
        "# Step 3: Fill missing values\n",
        "# Decide on methods to fill missing values\n",
        "for column in df.columns:\n",
        "    if null_values[column] > 0:\n",
        "        print(f\"\\nFilling missing values for column: {column}\")\n",
        "        if df[column].dtype == 'object':\n",
        "            # Fill with mode (most frequent value) for categorical data\n",
        "            mode_value = df[column].mode()[0]\n",
        "            df[column].fillna(mode_value, inplace=True)\n",
        "            print(f\"Filled with mode: {mode_value}\")\n",
        "        else:\n",
        "            # Fill with mean for numeric data\n",
        "            mean_value = df[column].mean()\n",
        "            df[column].fillna(mean_value, inplace=True)\n",
        "            print(f\"Filled with mean: {mean_value}\")\n",
        "\n",
        "# Verify if missing values are handled\n",
        "print(\"\\nTotal null values after filling:\")\n",
        "print(df.isnull().sum())\n",
        "\n",
        "# Step 4: Check for duplicate values\n",
        "duplicates = df.duplicated().sum()\n",
        "print(f\"\\nTotal duplicate rows: {duplicates}\")\n",
        "\n",
        "if duplicates > 0:\n",
        "    # Drop duplicate rows\n",
        "    df.drop_duplicates(inplace=True)\n",
        "    print(\"Duplicate rows removed.\")\n",
        "\n",
        "# Save the cleaned DataFrame (optional)\n",
        "df.to_csv(\"medica_students_cleaned.csv\", index=False)\n",
        "print(\"\\nCleaned DataFrame saved as 'medica_students_cleaned.csv'\")\n"
      ],
      "metadata": {
        "colab": {
          "base_uri": "https://localhost:8080/"
        },
        "id": "qZXnfbFTQJyA",
        "outputId": "5c350967-697c-4bfa-9e65-8df50aec7446"
      },
      "execution_count": 15,
      "outputs": [
        {
          "output_type": "stream",
          "name": "stdout",
          "text": [
            "DataFrame Info:\n",
            "<class 'pandas.core.frame.DataFrame'>\n",
            "RangeIndex: 200000 entries, 0 to 199999\n",
            "Data columns (total 13 columns):\n",
            " #   Column          Non-Null Count   Dtype  \n",
            "---  ------          --------------   -----  \n",
            " 0   Student ID      180000 non-null  float64\n",
            " 1   Age             180000 non-null  float64\n",
            " 2   Gender          180000 non-null  object \n",
            " 3   Height          180000 non-null  float64\n",
            " 4   Weight          180000 non-null  float64\n",
            " 5   Blood Type      180000 non-null  object \n",
            " 6   BMI             180000 non-null  float64\n",
            " 7   Temperature     180000 non-null  float64\n",
            " 8   Heart Rate      180000 non-null  float64\n",
            " 9   Blood Pressure  180000 non-null  float64\n",
            " 10  Cholesterol     180000 non-null  float64\n",
            " 11  Diabetes        180000 non-null  object \n",
            " 12  Smoking         180000 non-null  object \n",
            "dtypes: float64(9), object(4)\n",
            "memory usage: 19.8+ MB\n",
            "\n",
            "Total null values in each column:\n",
            "Student ID        20000\n",
            "Age               20000\n",
            "Gender            20000\n",
            "Height            20000\n",
            "Weight            20000\n",
            "Blood Type        20000\n",
            "BMI               20000\n",
            "Temperature       20000\n",
            "Heart Rate        20000\n",
            "Blood Pressure    20000\n",
            "Cholesterol       20000\n",
            "Diabetes          20000\n",
            "Smoking           20000\n",
            "dtype: int64\n",
            "\n",
            "Filling missing values for column: Student ID\n",
            "Filled with mean: 49974.042077777776\n",
            "\n",
            "Filling missing values for column: Age\n",
            "Filled with mean: 26.02156111111111\n",
            "\n",
            "Filling missing values for column: Gender\n",
            "Filled with mode: Male\n",
            "\n",
            "Filling missing values for column: Height\n",
            "Filled with mean: 174.9471026685741\n",
            "\n",
            "Filling missing values for column: Weight\n",
            "Filled with mean: 69.97158509186075\n",
            "\n",
            "Filling missing values for column: Blood Type\n",
            "Filled with mode: B\n",
            "\n",
            "Filling missing values for column: BMI\n",
            "Filled with mean: 23.338869359639226\n",
            "\n",
            "Filling missing values for column: Temperature\n",
            "Filled with mean: 98.60094787707668\n",
            "\n",
            "Filling missing values for column: Heart Rate\n",
            "Filled with mean: 79.50376666666666\n",
            "\n",
            "Filling missing values for column: Blood Pressure\n",
            "Filled with mean: 114.55803333333333\n",
            "\n",
            "Filling missing values for column: Cholesterol\n",
            "Filled with mean: 184.4863611111111\n",
            "\n",
            "Filling missing values for column: Diabetes\n"
          ]
        },
        {
          "output_type": "stream",
          "name": "stderr",
          "text": [
            "<ipython-input-15-ec355ee1b229>:29: FutureWarning: A value is trying to be set on a copy of a DataFrame or Series through chained assignment using an inplace method.\n",
            "The behavior will change in pandas 3.0. This inplace method will never work because the intermediate object on which we are setting values always behaves as a copy.\n",
            "\n",
            "For example, when doing 'df[col].method(value, inplace=True)', try using 'df.method({col: value}, inplace=True)' or df[col] = df[col].method(value) instead, to perform the operation inplace on the original object.\n",
            "\n",
            "\n",
            "  df[column].fillna(mean_value, inplace=True)\n",
            "<ipython-input-15-ec355ee1b229>:24: FutureWarning: A value is trying to be set on a copy of a DataFrame or Series through chained assignment using an inplace method.\n",
            "The behavior will change in pandas 3.0. This inplace method will never work because the intermediate object on which we are setting values always behaves as a copy.\n",
            "\n",
            "For example, when doing 'df[col].method(value, inplace=True)', try using 'df.method({col: value}, inplace=True)' or df[col] = df[col].method(value) instead, to perform the operation inplace on the original object.\n",
            "\n",
            "\n",
            "  df[column].fillna(mode_value, inplace=True)\n"
          ]
        },
        {
          "output_type": "stream",
          "name": "stdout",
          "text": [
            "Filled with mode: No\n",
            "\n",
            "Filling missing values for column: Smoking\n",
            "Filled with mode: No\n",
            "\n",
            "Total null values after filling:\n",
            "Student ID        0\n",
            "Age               0\n",
            "Gender            0\n",
            "Height            0\n",
            "Weight            0\n",
            "Blood Type        0\n",
            "BMI               0\n",
            "Temperature       0\n",
            "Heart Rate        0\n",
            "Blood Pressure    0\n",
            "Cholesterol       0\n",
            "Diabetes          0\n",
            "Smoking           0\n",
            "dtype: int64\n",
            "\n",
            "Total duplicate rows: 12572\n",
            "Duplicate rows removed.\n",
            "\n",
            "Cleaned DataFrame saved as 'medica_students_cleaned.csv'\n"
          ]
        }
      ]
    },
    {
      "cell_type": "code",
      "source": [
        "#problem-1\n",
        "import pandas as pd\n",
        "from google.colab import files\n",
        "\n",
        "# Load the Titanic dataset\n",
        "df = pd.read_csv(\"Titanic-Dataset.csv\")\n",
        "\n",
        "# Create a subset of the DataFrame\n",
        "subset = df[['Name', 'Pclass', 'Sex', 'Age', 'Fare', 'Survived']]\n",
        "\n",
        "# Filter for first-class passengers (Pclass = 1)\n",
        "first_class = subset[subset['Pclass'] == 1]\n",
        "\n",
        "# Calculate statistics for the 'Fare' column\n",
        "fare_mean = first_class['Fare'].mean()\n",
        "fare_median = first_class['Fare'].median()\n",
        "fare_max = first_class['Fare'].max()\n",
        "fare_min = first_class['Fare'].min()\n",
        "\n",
        "print(f\"Fare - Mean: {fare_mean}, Median: {fare_median}, Max: {fare_max}, Min: {fare_min}\")\n"
      ],
      "metadata": {
        "colab": {
          "base_uri": "https://localhost:8080/"
        },
        "id": "-yc7vXnHSIOZ",
        "outputId": "53792895-bd61-4e27-f5b3-ffcb182580d6"
      },
      "execution_count": 16,
      "outputs": [
        {
          "output_type": "stream",
          "name": "stdout",
          "text": [
            "Fare - Mean: 84.1546875, Median: 60.287499999999994, Max: 512.3292, Min: 0.0\n"
          ]
        }
      ]
    },
    {
      "cell_type": "code",
      "source": [
        "#problem-2\n",
        "# Check for null values in the 'Age' column\n",
        "null_age_count = first_class['Age'].isnull().sum()\n",
        "print(f\"Total null values in 'Age': {null_age_count}\")\n",
        "\n",
        "# Drop rows with missing 'Age'\n",
        "first_class_cleaned = first_class.dropna(subset=['Age'])\n",
        "print(f\"Rows after dropping null 'Age': {len(first_class_cleaned)}\")\n"
      ],
      "metadata": {
        "colab": {
          "base_uri": "https://localhost:8080/"
        },
        "id": "8oPOUaeySUpz",
        "outputId": "b8502ed2-d808-4e63-b0c4-feb4fff32475"
      },
      "execution_count": 17,
      "outputs": [
        {
          "output_type": "stream",
          "name": "stdout",
          "text": [
            "Total null values in 'Age': 30\n",
            "Rows after dropping null 'Age': 186\n"
          ]
        }
      ]
    },
    {
      "cell_type": "code",
      "source": [
        "#problem-3\n",
        "\n",
        "# Apply one-hot encoding to the 'Embarked' column\n",
        "one_hot_embarked = pd.get_dummies(df['Embarked'], prefix='Embarked')\n",
        "\n",
        "# Add the new columns to the original DataFrame\n",
        "df = pd.concat([df, one_hot_embarked], axis=1)\n",
        "\n",
        "# Drop the original 'Embarked' column\n",
        "df.drop(columns=['Embarked'], inplace=True)\n",
        "\n",
        "# Verify the changes\n",
        "print(df.head())\n"
      ],
      "metadata": {
        "colab": {
          "base_uri": "https://localhost:8080/"
        },
        "id": "6PgYRJ4LSe3Q",
        "outputId": "93d86587-e372-4b72-83e0-680a1f92736c"
      },
      "execution_count": 18,
      "outputs": [
        {
          "output_type": "stream",
          "name": "stdout",
          "text": [
            "   PassengerId  Survived  Pclass  \\\n",
            "0            1         0       3   \n",
            "1            2         1       1   \n",
            "2            3         1       3   \n",
            "3            4         1       1   \n",
            "4            5         0       3   \n",
            "\n",
            "                                                Name     Sex   Age  SibSp  \\\n",
            "0                            Braund, Mr. Owen Harris    male  22.0      1   \n",
            "1  Cumings, Mrs. John Bradley (Florence Briggs Th...  female  38.0      1   \n",
            "2                             Heikkinen, Miss. Laina  female  26.0      0   \n",
            "3       Futrelle, Mrs. Jacques Heath (Lily May Peel)  female  35.0      1   \n",
            "4                           Allen, Mr. William Henry    male  35.0      0   \n",
            "\n",
            "   Parch            Ticket     Fare Cabin  Embarked_C  Embarked_Q  Embarked_S  \n",
            "0      0         A/5 21171   7.2500   NaN       False       False        True  \n",
            "1      0          PC 17599  71.2833   C85        True       False       False  \n",
            "2      0  STON/O2. 3101282   7.9250   NaN       False       False        True  \n",
            "3      0            113803  53.1000  C123       False       False        True  \n",
            "4      0            373450   8.0500   NaN       False       False        True  \n"
          ]
        }
      ]
    },
    {
      "cell_type": "code",
      "source": [
        "#problem-4\n",
        "import matplotlib.pyplot as plt\n",
        "import seaborn as sns\n",
        "\n",
        "# Compare mean survival rates by gender\n",
        "survival_by_gender = df.groupby('Sex')['Survived'].mean()\n",
        "print(\"Mean Survival Rates by Gender:\")\n",
        "print(survival_by_gender)\n",
        "\n",
        "# Visualization\n",
        "sns.barplot(x=survival_by_gender.index, y=survival_by_gender.values)\n",
        "plt.title(\"Mean Survival Rates by Gender\")\n",
        "plt.ylabel(\"Survival Rate\")\n",
        "plt.xlabel(\"Gender\")\n",
        "plt.show()\n"
      ],
      "metadata": {
        "colab": {
          "base_uri": "https://localhost:8080/",
          "height": 559
        },
        "id": "FfnXtFfISn7H",
        "outputId": "2c6ed609-17ab-433a-8511-a1a6008127fc"
      },
      "execution_count": 19,
      "outputs": [
        {
          "output_type": "stream",
          "name": "stdout",
          "text": [
            "Mean Survival Rates by Gender:\n",
            "Sex\n",
            "female    0.742038\n",
            "male      0.188908\n",
            "Name: Survived, dtype: float64\n"
          ]
        },
        {
          "output_type": "display_data",
          "data": {
            "text/plain": [
              "<Figure size 640x480 with 1 Axes>"
            ],
            "image/png": "[encoded data removed]"
          },
          "metadata": {}
        }
      ]
    },
    {
      "cell_type": "code",
      "source": [
        "#problem-5\n",
        "\n",
        "import pandas as pd\n",
        "import seaborn as sns\n",
        "import matplotlib.pyplot as plt\n",
        "\n",
        "# Load the Titanic dataset\n",
        "df = pd.read_csv(\"Titanic-Dataset.csv\")\n",
        "\n",
        "# Filter out rows with missing values in 'Embarked' and 'Survived' columns\n",
        "df = df.dropna(subset=['Embarked', 'Survived'])\n",
        "\n",
        "# Use one-hot encoding to create binary columns for 'Embarked'\n",
        "df = pd.concat([df, pd.get_dummies(df['Embarked'], prefix='Embarked')], axis=1)\n",
        "\n",
        "# Calculate survival rates grouped by gender and port of embarkation\n",
        "survival_by_gender_port = (\n",
        "    df.groupby(['Sex', 'Embarked'])['Survived']\n",
        "    .mean()\n",
        "    .reset_index()\n",
        "    .rename(columns={'Survived': 'Survival Rate'})\n",
        ")\n",
        "\n",
        "# Visualization\n",
        "plt.figure(figsize=(10, 6))\n",
        "sns.barplot(\n",
        "    data=survival_by_gender_port,\n",
        "    x=\"Embarked\",\n",
        "    y=\"Survival Rate\",\n",
        "    hue=\"Sex\",\n",
        "    palette=\"viridis\"\n",
        ")\n",
        "plt.title(\"Survival Rates by Gender and Port of Embarkation\")\n",
        "plt.ylabel(\"Survival Rate\")\n",
        "plt.xlabel(\"Port of Embarkation\")\n",
        "plt.legend(title=\"Gender\")\n",
        "plt.show()\n"
      ],
      "metadata": {
        "colab": {
          "base_uri": "https://localhost:8080/",
          "height": 564
        },
        "id": "MItLJPruS-lS",
        "outputId": "ffd13fa8-9080-495c-bfb9-d5f06068dd1f"
      },
      "execution_count": 21,
      "outputs": [
        {
          "output_type": "display_data",
          "data": {
            "text/plain": [
              "<Figure size 1000x600 with 1 Axes>"
            ],
            "image/png": "[encoded data removed]"
          },
          "metadata": {}
        }
      ]
    }
  ]
}