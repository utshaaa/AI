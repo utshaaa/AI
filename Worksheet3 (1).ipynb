{
  "nbformat": 4,
  "nbformat_minor": 0,
  "metadata": {
    "colab": {
      "provenance": []
    },
    "kernelspec": {
      "name": "python3",
      "display_name": "Python 3"
    },
    "language_info": {
      "name": "python"
    }
  },
  "cells": [
    {
      "cell_type": "markdown",
      "source": [
        "#Worksheet 3"
      ],
      "metadata": {
        "id": "VynWVPFtpe9g"
      }
    },
    {
      "cell_type": "markdown",
      "source": [
        "#1. Sorting and Subsetting"
      ],
      "metadata": {
        "id": "ebth6jpOpu7M"
      }
    },
    {
      "cell_type": "markdown",
      "source": [
        "Problem 1. Sorting"
      ],
      "metadata": {
        "id": "hWPgNDtavSnk"
      }
    },
    {
      "cell_type": "code",
      "execution_count": 5,
      "metadata": {
        "colab": {
          "base_uri": "https://localhost:8080/"
        },
        "id": "OfiN5FeHpCX6",
        "outputId": "1115c14b-dca5-4fd2-dc18-2006dc37dea1"
      },
      "outputs": [
        {
          "output_type": "stream",
          "name": "stdout",
          "text": [
            "<class 'pandas.core.frame.DataFrame'>\n",
            "RangeIndex: 891 entries, 0 to 890\n",
            "Data columns (total 12 columns):\n",
            " #   Column       Non-Null Count  Dtype  \n",
            "---  ------       --------------  -----  \n",
            " 0   PassengerId  891 non-null    int64  \n",
            " 1   Survived     891 non-null    int64  \n",
            " 2   Pclass       891 non-null    int64  \n",
            " 3   Name         891 non-null    object \n",
            " 4   Sex          891 non-null    object \n",
            " 5   Age          714 non-null    float64\n",
            " 6   SibSp        891 non-null    int64  \n",
            " 7   Parch        891 non-null    int64  \n",
            " 8   Ticket       891 non-null    object \n",
            " 9   Fare         891 non-null    float64\n",
            " 10  Cabin        204 non-null    object \n",
            " 11  Embarked     889 non-null    object \n",
            "dtypes: float64(2), int64(5), object(5)\n",
            "memory usage: 83.7+ KB\n",
            "\n",
            "       Fare\n",
            "0   7.2500\n",
            "1  71.2833\n",
            "2   7.9250\n",
            "3  53.1000\n",
            "4   8.0500\n",
            "   Pclass   Age\n",
            "0       3  22.0\n",
            "1       1  38.0\n",
            "2       3  26.0\n",
            "3       1  35.0\n",
            "4       3  35.0\n",
            "\n",
            "    Survived     Sex\n",
            "0         0    male\n",
            "1         1  female\n",
            "2         1  female\n",
            "3         1  female\n",
            "4         0    male\n"
          ]
        }
      ],
      "source": [
        "import pandas as pd\n",
        "df = pd.read_csv('Titanic-Dataset.csv')\n",
        "df.info()\n",
        "fare = df[['Fare']]\n",
        "print(\"\\n\",fare.head())\n",
        "class_age = df[['Pclass', 'Age']]\n",
        "print(class_age.head())\n",
        "survived_gender = df[['Survived', 'Sex']]\n",
        "print(\"\\n\",survived_gender.head())"
      ]
    },
    {
      "cell_type": "markdown",
      "source": [
        "Problem 2. Subsetting"
      ],
      "metadata": {
        "id": "JarqN4SVvK7m"
      }
    },
    {
      "cell_type": "code",
      "source": [
        "\n",
        "fare_gt_100 = df[df['Fare'] > 100]\n",
        "print(fare_gt_100)\n",
        "first_class = df[df['Pclass'] == 1]\n",
        "print(\"\\n\",first_class)\n",
        "female_under_18 = df[(df['Age'] < 18) & (df['Sex'] == 'female')]\n",
        "print(\"\\n\",female_under_18)\n"
      ],
      "metadata": {
        "colab": {
          "base_uri": "https://localhost:8080/"
        },
        "id": "tep7SDdMvFW9",
        "outputId": "926718a3-e231-4315-9cb9-32b81316fc0e"
      },
      "execution_count": 6,
      "outputs": [
        {
          "output_type": "stream",
          "name": "stdout",
          "text": [
            "     PassengerId  Survived  Pclass  \\\n",
            "27            28         0       1   \n",
            "31            32         1       1   \n",
            "88            89         1       1   \n",
            "118          119         0       1   \n",
            "195          196         1       1   \n",
            "215          216         1       1   \n",
            "258          259         1       1   \n",
            "268          269         1       1   \n",
            "269          270         1       1   \n",
            "297          298         0       1   \n",
            "299          300         1       1   \n",
            "305          306         1       1   \n",
            "306          307         1       1   \n",
            "307          308         1       1   \n",
            "311          312         1       1   \n",
            "318          319         1       1   \n",
            "319          320         1       1   \n",
            "325          326         1       1   \n",
            "332          333         0       1   \n",
            "334          335         1       1   \n",
            "337          338         1       1   \n",
            "341          342         1       1   \n",
            "373          374         0       1   \n",
            "377          378         0       1   \n",
            "380          381         1       1   \n",
            "390          391         1       1   \n",
            "393          394         1       1   \n",
            "435          436         1       1   \n",
            "438          439         0       1   \n",
            "498          499         0       1   \n",
            "505          506         0       1   \n",
            "527          528         0       1   \n",
            "537          538         1       1   \n",
            "544          545         0       1   \n",
            "550          551         1       1   \n",
            "557          558         0       1   \n",
            "581          582         1       1   \n",
            "609          610         1       1   \n",
            "659          660         0       1   \n",
            "660          661         1       1   \n",
            "679          680         1       1   \n",
            "689          690         1       1   \n",
            "698          699         0       1   \n",
            "700          701         1       1   \n",
            "708          709         1       1   \n",
            "716          717         1       1   \n",
            "730          731         1       1   \n",
            "737          738         1       1   \n",
            "742          743         1       1   \n",
            "763          764         1       1   \n",
            "779          780         1       1   \n",
            "802          803         1       1   \n",
            "856          857         1       1   \n",
            "\n",
            "                                                  Name     Sex    Age  SibSp  \\\n",
            "27                      Fortune, Mr. Charles Alexander    male  19.00      3   \n",
            "31      Spencer, Mrs. William Augustus (Marie Eugenie)  female    NaN      1   \n",
            "88                          Fortune, Miss. Mabel Helen  female  23.00      3   \n",
            "118                           Baxter, Mr. Quigg Edmond    male  24.00      0   \n",
            "195                               Lurette, Miss. Elise  female  58.00      0   \n",
            "215                            Newell, Miss. Madeleine  female  31.00      1   \n",
            "258                                   Ward, Miss. Anna  female  35.00      0   \n",
            "268      Graham, Mrs. William Thompson (Edith Junkins)  female  58.00      0   \n",
            "269                             Bissette, Miss. Amelia  female  35.00      0   \n",
            "297                       Allison, Miss. Helen Loraine  female   2.00      1   \n",
            "299    Baxter, Mrs. James (Helene DeLaudeniere Chaput)  female  50.00      0   \n",
            "305                     Allison, Master. Hudson Trevor    male   0.92      1   \n",
            "306                            Fleming, Miss. Margaret  female    NaN      0   \n",
            "307  Penasco y Castellana, Mrs. Victor de Satode (M...  female  17.00      1   \n",
            "311                         Ryerson, Miss. Emily Borie  female  18.00      2   \n",
            "318                           Wick, Miss. Mary Natalie  female  31.00      0   \n",
            "319  Spedden, Mrs. Frederic Oakley (Margaretta Corn...  female  40.00      1   \n",
            "325                           Young, Miss. Marie Grice  female  36.00      0   \n",
            "332                          Graham, Mr. George Edward    male  38.00      0   \n",
            "334  Frauenthal, Mrs. Henry William (Clara Heinshei...  female    NaN      1   \n",
            "337                    Burns, Miss. Elizabeth Margaret  female  41.00      0   \n",
            "341                     Fortune, Miss. Alice Elizabeth  female  24.00      3   \n",
            "373                                Ringhini, Mr. Sante    male  22.00      0   \n",
            "377                          Widener, Mr. Harry Elkins    male  27.00      0   \n",
            "380                              Bidois, Miss. Rosalie  female  42.00      0   \n",
            "390                         Carter, Mr. William Ernest    male  36.00      1   \n",
            "393                             Newell, Miss. Marjorie  female  23.00      1   \n",
            "435                          Carter, Miss. Lucile Polk  female  14.00      1   \n",
            "438                                  Fortune, Mr. Mark    male  64.00      1   \n",
            "498    Allison, Mrs. Hudson J C (Bessie Waldo Daniels)  female  25.00      1   \n",
            "505         Penasco y Castellana, Mr. Victor de Satode    male  18.00      1   \n",
            "527                                 Farthing, Mr. John    male    NaN      0   \n",
            "537                                LeRoy, Miss. Bertha  female  30.00      0   \n",
            "544                         Douglas, Mr. Walter Donald    male  50.00      1   \n",
            "550                        Thayer, Mr. John Borland Jr    male  17.00      0   \n",
            "557                                Robbins, Mr. Victor    male    NaN      0   \n",
            "581  Thayer, Mrs. John Borland (Marian Longstreth M...  female  39.00      1   \n",
            "609                          Shutes, Miss. Elizabeth W  female  40.00      0   \n",
            "659                         Newell, Mr. Arthur Webster    male  58.00      0   \n",
            "660                      Frauenthal, Dr. Henry William    male  50.00      2   \n",
            "679                 Cardeza, Mr. Thomas Drake Martinez    male  36.00      0   \n",
            "689                  Madill, Miss. Georgette Alexandra  female  15.00      0   \n",
            "698                           Thayer, Mr. John Borland    male  49.00      1   \n",
            "700  Astor, Mrs. John Jacob (Madeleine Talmadge Force)  female  18.00      1   \n",
            "708                               Cleaver, Miss. Alice  female  22.00      0   \n",
            "716                      Endres, Miss. Caroline Louise  female  38.00      0   \n",
            "730                      Allen, Miss. Elisabeth Walton  female  29.00      0   \n",
            "737                             Lesurer, Mr. Gustave J    male  35.00      0   \n",
            "742              Ryerson, Miss. Susan Parker \"Suzette\"  female  21.00      2   \n",
            "763          Carter, Mrs. William Ernest (Lucile Polk)  female  36.00      1   \n",
            "779  Robert, Mrs. Edward Scott (Elisabeth Walton Mc...  female  43.00      0   \n",
            "802                Carter, Master. William Thornton II    male  11.00      1   \n",
            "856         Wick, Mrs. George Dennick (Mary Hitchcock)  female  45.00      1   \n",
            "\n",
            "     Parch    Ticket      Fare            Cabin Embarked  \n",
            "27       2     19950  263.0000      C23 C25 C27        S  \n",
            "31       0  PC 17569  146.5208              B78        C  \n",
            "88       2     19950  263.0000      C23 C25 C27        S  \n",
            "118      1  PC 17558  247.5208          B58 B60        C  \n",
            "195      0  PC 17569  146.5208              B80        C  \n",
            "215      0     35273  113.2750              D36        C  \n",
            "258      0  PC 17755  512.3292              NaN        C  \n",
            "268      1  PC 17582  153.4625             C125        S  \n",
            "269      0  PC 17760  135.6333              C99        S  \n",
            "297      2    113781  151.5500          C22 C26        S  \n",
            "299      1  PC 17558  247.5208          B58 B60        C  \n",
            "305      2    113781  151.5500          C22 C26        S  \n",
            "306      0     17421  110.8833              NaN        C  \n",
            "307      0  PC 17758  108.9000              C65        C  \n",
            "311      2  PC 17608  262.3750  B57 B59 B63 B66        C  \n",
            "318      2     36928  164.8667               C7        S  \n",
            "319      1     16966  134.5000              E34        C  \n",
            "325      0  PC 17760  135.6333              C32        C  \n",
            "332      1  PC 17582  153.4625              C91        S  \n",
            "334      0  PC 17611  133.6500              NaN        S  \n",
            "337      0     16966  134.5000              E40        C  \n",
            "341      2     19950  263.0000      C23 C25 C27        S  \n",
            "373      0  PC 17760  135.6333              NaN        C  \n",
            "377      2    113503  211.5000              C82        C  \n",
            "380      0  PC 17757  227.5250              NaN        C  \n",
            "390      2    113760  120.0000          B96 B98        S  \n",
            "393      0     35273  113.2750              D36        C  \n",
            "435      2    113760  120.0000          B96 B98        S  \n",
            "438      4     19950  263.0000      C23 C25 C27        S  \n",
            "498      2    113781  151.5500          C22 C26        S  \n",
            "505      0  PC 17758  108.9000              C65        C  \n",
            "527      0  PC 17483  221.7792              C95        S  \n",
            "537      0  PC 17761  106.4250              NaN        C  \n",
            "544      0  PC 17761  106.4250              C86        C  \n",
            "550      2     17421  110.8833              C70        C  \n",
            "557      0  PC 17757  227.5250              NaN        C  \n",
            "581      1     17421  110.8833              C68        C  \n",
            "609      0  PC 17582  153.4625             C125        S  \n",
            "659      2     35273  113.2750              D48        C  \n",
            "660      0  PC 17611  133.6500              NaN        S  \n",
            "679      1  PC 17755  512.3292      B51 B53 B55        C  \n",
            "689      1     24160  211.3375               B5        S  \n",
            "698      1     17421  110.8833              C68        C  \n",
            "700      0  PC 17757  227.5250          C62 C64        C  \n",
            "708      0    113781  151.5500              NaN        S  \n",
            "716      0  PC 17757  227.5250              C45        C  \n",
            "730      0     24160  211.3375               B5        S  \n",
            "737      0  PC 17755  512.3292             B101        C  \n",
            "742      2  PC 17608  262.3750  B57 B59 B63 B66        C  \n",
            "763      2    113760  120.0000          B96 B98        S  \n",
            "779      1     24160  211.3375               B3        S  \n",
            "802      2    113760  120.0000          B96 B98        S  \n",
            "856      1     36928  164.8667              NaN        S  \n",
            "\n",
            "      PassengerId  Survived  Pclass  \\\n",
            "1              2         1       1   \n",
            "3              4         1       1   \n",
            "6              7         0       1   \n",
            "11            12         1       1   \n",
            "23            24         1       1   \n",
            "..           ...       ...     ...   \n",
            "871          872         1       1   \n",
            "872          873         0       1   \n",
            "879          880         1       1   \n",
            "887          888         1       1   \n",
            "889          890         1       1   \n",
            "\n",
            "                                                  Name     Sex   Age  SibSp  \\\n",
            "1    Cumings, Mrs. John Bradley (Florence Briggs Th...  female  38.0      1   \n",
            "3         Futrelle, Mrs. Jacques Heath (Lily May Peel)  female  35.0      1   \n",
            "6                              McCarthy, Mr. Timothy J    male  54.0      0   \n",
            "11                            Bonnell, Miss. Elizabeth  female  58.0      0   \n",
            "23                        Sloper, Mr. William Thompson    male  28.0      0   \n",
            "..                                                 ...     ...   ...    ...   \n",
            "871   Beckwith, Mrs. Richard Leonard (Sallie Monypeny)  female  47.0      1   \n",
            "872                           Carlsson, Mr. Frans Olof    male  33.0      0   \n",
            "879      Potter, Mrs. Thomas Jr (Lily Alexenia Wilson)  female  56.0      0   \n",
            "887                       Graham, Miss. Margaret Edith  female  19.0      0   \n",
            "889                              Behr, Mr. Karl Howell    male  26.0      0   \n",
            "\n",
            "     Parch    Ticket     Fare        Cabin Embarked  \n",
            "1        0  PC 17599  71.2833          C85        C  \n",
            "3        0    113803  53.1000         C123        S  \n",
            "6        0     17463  51.8625          E46        S  \n",
            "11       0    113783  26.5500         C103        S  \n",
            "23       0    113788  35.5000           A6        S  \n",
            "..     ...       ...      ...          ...      ...  \n",
            "871      1     11751  52.5542          D35        S  \n",
            "872      0       695   5.0000  B51 B53 B55        S  \n",
            "879      1     11767  83.1583          C50        C  \n",
            "887      0    112053  30.0000          B42        S  \n",
            "889      0    111369  30.0000         C148        C  \n",
            "\n",
            "[216 rows x 12 columns]\n",
            "\n",
            "      PassengerId  Survived  Pclass  \\\n",
            "9             10         1       2   \n",
            "10            11         1       3   \n",
            "14            15         0       3   \n",
            "22            23         1       3   \n",
            "24            25         0       3   \n",
            "39            40         1       3   \n",
            "43            44         1       2   \n",
            "58            59         1       2   \n",
            "68            69         1       3   \n",
            "71            72         0       3   \n",
            "84            85         1       2   \n",
            "111          112         0       3   \n",
            "114          115         0       3   \n",
            "119          120         0       3   \n",
            "147          148         0       3   \n",
            "156          157         1       3   \n",
            "172          173         1       3   \n",
            "184          185         1       3   \n",
            "205          206         0       3   \n",
            "208          209         1       3   \n",
            "233          234         1       3   \n",
            "237          238         1       2   \n",
            "297          298         0       1   \n",
            "307          308         1       1   \n",
            "329          330         1       1   \n",
            "374          375         0       3   \n",
            "381          382         1       3   \n",
            "389          390         1       2   \n",
            "419          420         0       3   \n",
            "435          436         1       1   \n",
            "446          447         1       2   \n",
            "448          449         1       3   \n",
            "469          470         1       3   \n",
            "479          480         1       3   \n",
            "504          505         1       1   \n",
            "530          531         1       2   \n",
            "535          536         1       2   \n",
            "541          542         0       3   \n",
            "542          543         0       3   \n",
            "618          619         1       2   \n",
            "634          635         0       3   \n",
            "642          643         0       3   \n",
            "644          645         1       3   \n",
            "689          690         1       1   \n",
            "691          692         1       3   \n",
            "720          721         1       2   \n",
            "750          751         1       2   \n",
            "777          778         1       3   \n",
            "780          781         1       3   \n",
            "781          782         1       1   \n",
            "813          814         0       3   \n",
            "830          831         1       3   \n",
            "852          853         0       3   \n",
            "853          854         1       1   \n",
            "875          876         1       3   \n",
            "\n",
            "                                                  Name     Sex    Age  SibSp  \\\n",
            "9                  Nasser, Mrs. Nicholas (Adele Achem)  female  14.00      1   \n",
            "10                     Sandstrom, Miss. Marguerite Rut  female   4.00      1   \n",
            "14                Vestrom, Miss. Hulda Amanda Adolfina  female  14.00      0   \n",
            "22                         McGowan, Miss. Anna \"Annie\"  female  15.00      0   \n",
            "24                       Palsson, Miss. Torborg Danira  female   8.00      3   \n",
            "39                         Nicola-Yarred, Miss. Jamila  female  14.00      1   \n",
            "43            Laroche, Miss. Simonne Marie Anne Andree  female   3.00      1   \n",
            "58                        West, Miss. Constance Mirium  female   5.00      1   \n",
            "68                     Andersson, Miss. Erna Alexandra  female  17.00      4   \n",
            "71                          Goodwin, Miss. Lillian Amy  female  16.00      5   \n",
            "84                                 Ilett, Miss. Bertha  female  17.00      0   \n",
            "111                               Zabour, Miss. Hileni  female  14.50      1   \n",
            "114                              Attalah, Miss. Malake  female  17.00      0   \n",
            "119                  Andersson, Miss. Ellis Anna Maria  female   2.00      4   \n",
            "147                   Ford, Miss. Robina Maggie \"Ruby\"  female   9.00      2   \n",
            "156                   Gilnagh, Miss. Katherine \"Katie\"  female  16.00      0   \n",
            "172                       Johnson, Miss. Eleanor Ileen  female   1.00      1   \n",
            "184                Kink-Heilmann, Miss. Luise Gretchen  female   4.00      0   \n",
            "205                         Strom, Miss. Telma Matilda  female   2.00      0   \n",
            "208                          Carr, Miss. Helen \"Ellen\"  female  16.00      0   \n",
            "233                     Asplund, Miss. Lillian Gertrud  female   5.00      4   \n",
            "237                   Collyer, Miss. Marjorie \"Lottie\"  female   8.00      0   \n",
            "297                       Allison, Miss. Helen Loraine  female   2.00      1   \n",
            "307  Penasco y Castellana, Mrs. Victor de Satode (M...  female  17.00      1   \n",
            "329                       Hippach, Miss. Jean Gertrude  female  16.00      0   \n",
            "374                         Palsson, Miss. Stina Viola  female   3.00      3   \n",
            "381                        Nakid, Miss. Maria (\"Mary\")  female   1.00      0   \n",
            "389                              Lehmann, Miss. Bertha  female  17.00      0   \n",
            "419                          Van Impe, Miss. Catharina  female  10.00      0   \n",
            "435                          Carter, Miss. Lucile Polk  female  14.00      1   \n",
            "446                  Mellinger, Miss. Madeleine Violet  female  13.00      0   \n",
            "448                     Baclini, Miss. Marie Catherine  female   5.00      2   \n",
            "469                      Baclini, Miss. Helene Barbara  female   0.75      2   \n",
            "479                           Hirvonen, Miss. Hildur E  female   2.00      0   \n",
            "504                              Maioni, Miss. Roberta  female  16.00      0   \n",
            "530                           Quick, Miss. Phyllis May  female   2.00      1   \n",
            "535                             Hart, Miss. Eva Miriam  female   7.00      0   \n",
            "541               Andersson, Miss. Ingeborg Constanzia  female   9.00      4   \n",
            "542                  Andersson, Miss. Sigrid Elisabeth  female  11.00      4   \n",
            "618                        Becker, Miss. Marion Louise  female   4.00      2   \n",
            "634                                 Skoog, Miss. Mabel  female   9.00      3   \n",
            "642                      Skoog, Miss. Margit Elizabeth  female   2.00      3   \n",
            "644                             Baclini, Miss. Eugenie  female   0.75      2   \n",
            "689                  Madill, Miss. Georgette Alexandra  female  15.00      0   \n",
            "691                                 Karun, Miss. Manca  female   4.00      0   \n",
            "720                  Harper, Miss. Annie Jessie \"Nina\"  female   6.00      0   \n",
            "750                                  Wells, Miss. Joan  female   4.00      1   \n",
            "777                      Emanuel, Miss. Virginia Ethel  female   5.00      0   \n",
            "780                               Ayoub, Miss. Banoura  female  13.00      0   \n",
            "781          Dick, Mrs. Albert Adrian (Vera Gillespie)  female  17.00      1   \n",
            "813                 Andersson, Miss. Ebba Iris Alfrida  female   6.00      4   \n",
            "830            Yasbeck, Mrs. Antoni (Selini Alexander)  female  15.00      1   \n",
            "852                            Boulos, Miss. Nourelain  female   9.00      1   \n",
            "853                          Lines, Miss. Mary Conover  female  16.00      0   \n",
            "875                   Najib, Miss. Adele Kiamie \"Jane\"  female  15.00      0   \n",
            "\n",
            "     Parch         Ticket      Fare    Cabin Embarked  \n",
            "9        0         237736   30.0708      NaN        C  \n",
            "10       1        PP 9549   16.7000       G6        S  \n",
            "14       0         350406    7.8542      NaN        S  \n",
            "22       0         330923    8.0292      NaN        Q  \n",
            "24       1         349909   21.0750      NaN        S  \n",
            "39       0           2651   11.2417      NaN        C  \n",
            "43       2  SC/Paris 2123   41.5792      NaN        C  \n",
            "58       2     C.A. 34651   27.7500      NaN        S  \n",
            "68       2        3101281    7.9250      NaN        S  \n",
            "71       2        CA 2144   46.9000      NaN        S  \n",
            "84       0     SO/C 14885   10.5000      NaN        S  \n",
            "111      0           2665   14.4542      NaN        C  \n",
            "114      0           2627   14.4583      NaN        C  \n",
            "119      2         347082   31.2750      NaN        S  \n",
            "147      2     W./C. 6608   34.3750      NaN        S  \n",
            "156      0          35851    7.7333      NaN        Q  \n",
            "172      1         347742   11.1333      NaN        S  \n",
            "184      2         315153   22.0250      NaN        S  \n",
            "205      1         347054   10.4625       G6        S  \n",
            "208      0         367231    7.7500      NaN        Q  \n",
            "233      2         347077   31.3875      NaN        S  \n",
            "237      2     C.A. 31921   26.2500      NaN        S  \n",
            "297      2         113781  151.5500  C22 C26        S  \n",
            "307      0       PC 17758  108.9000      C65        C  \n",
            "329      1         111361   57.9792      B18        C  \n",
            "374      1         349909   21.0750      NaN        S  \n",
            "381      2           2653   15.7417      NaN        C  \n",
            "389      0        SC 1748   12.0000      NaN        C  \n",
            "419      2         345773   24.1500      NaN        S  \n",
            "435      2         113760  120.0000  B96 B98        S  \n",
            "446      1         250644   19.5000      NaN        S  \n",
            "448      1           2666   19.2583      NaN        C  \n",
            "469      1           2666   19.2583      NaN        C  \n",
            "479      1        3101298   12.2875      NaN        S  \n",
            "504      0         110152   86.5000      B79        S  \n",
            "530      1          26360   26.0000      NaN        S  \n",
            "535      2   F.C.C. 13529   26.2500      NaN        S  \n",
            "541      2         347082   31.2750      NaN        S  \n",
            "542      2         347082   31.2750      NaN        S  \n",
            "618      1         230136   39.0000       F4        S  \n",
            "634      2         347088   27.9000      NaN        S  \n",
            "642      2         347088   27.9000      NaN        S  \n",
            "644      1           2666   19.2583      NaN        C  \n",
            "689      1          24160  211.3375       B5        S  \n",
            "691      1         349256   13.4167      NaN        C  \n",
            "720      1         248727   33.0000      NaN        S  \n",
            "750      1          29103   23.0000      NaN        S  \n",
            "777      0         364516   12.4750      NaN        S  \n",
            "780      0           2687    7.2292      NaN        C  \n",
            "781      0          17474   57.0000      B20        S  \n",
            "813      2         347082   31.2750      NaN        S  \n",
            "830      0           2659   14.4542      NaN        C  \n",
            "852      1           2678   15.2458      NaN        C  \n",
            "853      1       PC 17592   39.4000      D28        S  \n",
            "875      0           2667    7.2250      NaN        C  \n"
          ]
        }
      ]
    },
    {
      "cell_type": "markdown",
      "source": [
        "Subsetting Rows by Categorical variables:"
      ],
      "metadata": {
        "id": "Pp2H1F8xv81x"
      }
    },
    {
      "cell_type": "code",
      "source": [
        "import pandas as pd\n",
        "df = pd.read_csv('Titanic-Dataset.csv')\n",
        "embarked_c_or_s = df[df['Embarked'].isin(['C', 'S'])]\n",
        "#print(embarked_c_or_s)\n",
        "first_second_class = df[df['Pclass'].isin([1, 2])]\n",
        "print(first_second_class)"
      ],
      "metadata": {
        "colab": {
          "base_uri": "https://localhost:8080/"
        },
        "id": "AHP_YI9UwFvD",
        "outputId": "1da1b0bb-881b-4fd7-dcbf-11a8d47623fa"
      },
      "execution_count": 11,
      "outputs": [
        {
          "output_type": "stream",
          "name": "stdout",
          "text": [
            "     PassengerId  Survived  Pclass  \\\n",
            "1              2         1       1   \n",
            "3              4         1       1   \n",
            "6              7         0       1   \n",
            "9             10         1       2   \n",
            "11            12         1       1   \n",
            "..           ...       ...     ...   \n",
            "880          881         1       2   \n",
            "883          884         0       2   \n",
            "886          887         0       2   \n",
            "887          888         1       1   \n",
            "889          890         1       1   \n",
            "\n",
            "                                                  Name     Sex   Age  SibSp  \\\n",
            "1    Cumings, Mrs. John Bradley (Florence Briggs Th...  female  38.0      1   \n",
            "3         Futrelle, Mrs. Jacques Heath (Lily May Peel)  female  35.0      1   \n",
            "6                              McCarthy, Mr. Timothy J    male  54.0      0   \n",
            "9                  Nasser, Mrs. Nicholas (Adele Achem)  female  14.0      1   \n",
            "11                            Bonnell, Miss. Elizabeth  female  58.0      0   \n",
            "..                                                 ...     ...   ...    ...   \n",
            "880       Shelley, Mrs. William (Imanita Parrish Hall)  female  25.0      0   \n",
            "883                      Banfield, Mr. Frederick James    male  28.0      0   \n",
            "886                              Montvila, Rev. Juozas    male  27.0      0   \n",
            "887                       Graham, Miss. Margaret Edith  female  19.0      0   \n",
            "889                              Behr, Mr. Karl Howell    male  26.0      0   \n",
            "\n",
            "     Parch            Ticket     Fare Cabin Embarked  \n",
            "1        0          PC 17599  71.2833   C85        C  \n",
            "3        0            113803  53.1000  C123        S  \n",
            "6        0             17463  51.8625   E46        S  \n",
            "9        0            237736  30.0708   NaN        C  \n",
            "11       0            113783  26.5500  C103        S  \n",
            "..     ...               ...      ...   ...      ...  \n",
            "880      1            230433  26.0000   NaN        S  \n",
            "883      0  C.A./SOTON 34068  10.5000   NaN        S  \n",
            "886      0            211536  13.0000   NaN        S  \n",
            "887      0            112053  30.0000   B42        S  \n",
            "889      0            111369  30.0000  C148        C  \n",
            "\n",
            "[400 rows x 12 columns]\n"
          ]
        }
      ]
    },
    {
      "cell_type": "markdown",
      "source": [
        "#Exploratory Data Analysis Practice Exercise - 1."
      ],
      "metadata": {
        "id": "dw4QmBqywP4s"
      }
    },
    {
      "cell_type": "markdown",
      "source": [
        "Which passenger had the highest fare paid relative to their age?"
      ],
      "metadata": {
        "id": "d2JtIRlKxnUh"
      }
    },
    {
      "cell_type": "code",
      "source": [
        "\n",
        "df['fare per year'] = df['Fare'] / df['Age']\n",
        "high_fare_age = df[df['fare per year'] > 5]\n",
        "high_fare_age_srt = high_fare_age.sort_values(by='fare per year', ascending=False)\n",
        "result = high_fare_age_srt[['Name', 'fare per year']]\n",
        "print(result.head())"
      ],
      "metadata": {
        "colab": {
          "base_uri": "https://localhost:8080/"
        },
        "id": "SSl7anoFwh8c",
        "outputId": "ff83aded-89b4-4cd6-aaf1-51ad5752862d"
      },
      "execution_count": null,
      "outputs": [
        {
          "output_type": "stream",
          "name": "stdout",
          "text": [
            "                                Name  fare per year\n",
            "305   Allison, Master. Hudson Trevor     164.728261\n",
            "297     Allison, Miss. Helen Loraine      75.775000\n",
            "386  Goodwin, Master. Sidney Leonard      46.900000\n",
            "164     Panula, Master. Eino Viljami      39.687500\n",
            "183        Becker, Master. Richard F      39.000000\n"
          ]
        }
      ]
    },
    {
      "cell_type": "markdown",
      "source": [
        "Which adult male passenger (age ≥ 18 and Sex is ’male’) paid the highest fare relative to their\n",
        "class?"
      ],
      "metadata": {
        "id": "ilOGRQ7exp2q"
      }
    },
    {
      "cell_type": "code",
      "source": [
        "# add a new column 'fare per class'\n",
        "df['fare per class'] = df['Fare'] / df['Pclass']\n",
        "adult_males = df[(df['Sex'] == 'male') & (df['Age'] >= 18)]\n",
        "adult_males_srt = adult_males.sort_values(by='fare per class', ascending=False)\n",
        "\n",
        "# select only the 'Name', 'Age', and 'fare per class' columns and save the result\n",
        "result = adult_males_srt[['Name', 'Age', 'fare per class']]\n",
        "\n",
        "# Step 5: View the result\n",
        "print(result.head())"
      ],
      "metadata": {
        "colab": {
          "base_uri": "https://localhost:8080/"
        },
        "id": "AkiVoCVhxtR5",
        "outputId": "4665e0da-32c9-459f-b114-492f10532439"
      },
      "execution_count": null,
      "outputs": [
        {
          "output_type": "stream",
          "name": "stdout",
          "text": [
            "                                   Name   Age  fare per class\n",
            "737              Lesurer, Mr. Gustave J  35.0        512.3292\n",
            "679  Cardeza, Mr. Thomas Drake Martinez  36.0        512.3292\n",
            "27       Fortune, Mr. Charles Alexander  19.0        263.0000\n",
            "438                   Fortune, Mr. Mark  64.0        263.0000\n",
            "118            Baxter, Mr. Quigg Edmond  24.0        247.5208\n"
          ]
        }
      ]
    },
    {
      "cell_type": "markdown",
      "source": [
        "#Exploratory Data Analysis with Group-by Method Practice Exercise:"
      ],
      "metadata": {
        "id": "qyb8TJtxyBHx"
      }
    },
    {
      "cell_type": "markdown",
      "source": [
        "What percent of the total fare revenue came from each passenger class?"
      ],
      "metadata": {
        "id": "75JGW2I9yGWh"
      }
    },
    {
      "cell_type": "code",
      "source": [
        "# Step 1: Calculate the total Fare paid across all passengers in the Titanic dataset\n",
        "total_fare = df['Fare'].sum()\n",
        "\n",
        "# Step 2: Subset for passengers in first class (Pclass is 1) and calculate their total fare\n",
        "first_class_fare = df[df['Pclass'] == 1]['Fare'].sum()\n",
        "\n",
        "# Step 3: Do the same for second class (Pclass is 2) and third class (Pclass is 3)\n",
        "second_class_fare = df[df['Pclass'] == 2]['Fare'].sum()\n",
        "third_class_fare = df[df['Pclass'] == 3]['Fare'].sum()\n",
        "\n",
        "# Step 4: Combine the fare totals from first, second, and third classes into a list\n",
        "class_fare_totals = [first_class_fare, second_class_fare, third_class_fare]\n",
        "\n",
        "# Step 5: Divide the totals for each class by the overall total fare to get the proportion of fare revenue by class\n",
        "class_fare_percentage = [fare / total_fare * 100 for fare in class_fare_totals]\n",
        "\n",
        "# Output the result: Percent of total fare revenue for each class\n",
        "print(class_fare_percentage)"
      ],
      "metadata": {
        "colab": {
          "base_uri": "https://localhost:8080/"
        },
        "id": "I1v9icLSyIZR",
        "outputId": "b758730c-3644-4914-88b8-d8be03bede72"
      },
      "execution_count": 4,
      "outputs": [
        {
          "output_type": "stream",
          "name": "stdout",
          "text": [
            "[63.349287718996564, 13.24962855496507, 23.401083726038365]\n"
          ]
        }
      ]
    },
    {
      "cell_type": "markdown",
      "source": [
        "What percent of the total number of passengers on the Titanic belonged to each age group\n",
        "(e.g., child, adult, senior)?"
      ],
      "metadata": {
        "id": "hxemrbIXyVPE"
      }
    },
    {
      "cell_type": "code",
      "source": [
        "# Step 1: Create a new column 'age group' that categorizes passengers into 'child', 'adult', or 'senior'\n",
        "df['age group'] = pd.cut(df['Age'], bins=[0, 17, 64, float('inf')], labels=['child', 'adult', 'senior'])\n",
        "\n",
        "# Step 2: Calculate the total number of passengers on the Titanic\n",
        "total_passengers = len(df)\n",
        "\n",
        "# Step 3: Count the number of passengers in each age group\n",
        "age_group_counts = df['age group'].value_counts()\n",
        "\n",
        "# Step 4: Divide the count of each age group by the total number of passengers to get the proportion\n",
        "age_group_proportions = age_group_counts / total_passengers\n",
        "\n",
        "# Step 5: Display the proportion as a percentage\n",
        "age_group_percentage = age_group_proportions * 100\n",
        "\n",
        "# Output the result\n",
        "print(age_group_percentage)"
      ],
      "metadata": {
        "colab": {
          "base_uri": "https://localhost:8080/"
        },
        "id": "DkaeH6_5yebD",
        "outputId": "83124ff5-2d39-4294-bc8c-c442bb094ca0"
      },
      "execution_count": null,
      "outputs": [
        {
          "output_type": "stream",
          "name": "stdout",
          "text": [
            "age group\n",
            "adult     66.217733\n",
            "child     12.682379\n",
            "senior     1.234568\n",
            "Name: count, dtype: float64\n"
          ]
        }
      ]
    }
  ]
}